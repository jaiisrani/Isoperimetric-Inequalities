{
  "nbformat": 4,
  "nbformat_minor": 0,
  "metadata": {
    "colab": {
      "provenance": [],
      "collapsed_sections": [
        "llW-X3yBrXXt"
      ]
    },
    "kernelspec": {
      "name": "python3",
      "display_name": "Python 3"
    },
    "language_info": {
      "name": "python"
    }
  },
  "cells": [
    {
      "cell_type": "markdown",
      "source": [
        "#The Greedy Algorithm"
      ],
      "metadata": {
        "id": "llW-X3yBrXXt"
      }
    },
    {
      "cell_type": "code",
      "execution_count": 1,
      "metadata": {
        "colab": {
          "base_uri": "https://localhost:8080/"
        },
        "id": "wnmHBcuQrTSH",
        "outputId": "fc7a9a66-54c2-4e38-e2ea-3ba355d15ff2"
      },
      "outputs": [
        {
          "output_type": "stream",
          "name": "stdout",
          "text": [
            "Cluster 1: [(0.5488135039273248, 0.7151893663724195), (0.4375872112626925, 0.8917730007820798), (0.5680445610939323, 0.925596638292661), (0.02021839744032572, 0.832619845547938), (0.46147936225293185, 0.7805291762864555), (0.26455561210462697, 0.7742336894342167), (0.018789800436355142, 0.6176354970758771), (0.2088767560948347, 0.16130951788499626)]\n",
            "Cluster 2: [(0.6027633760716439, 0.5448831829968969), (0.9636627605010293, 0.3834415188257777), (0.7781567509498505, 0.8700121482468192), (0.978618342232764, 0.7991585642167236), (0.6120957227224214, 0.6169339968747569), (0.9437480785146242, 0.6818202991034834), (0.6667667154456677, 0.6706378696181594), (0.5701967704178796, 0.43860151346232035), (0.6531083254653984, 0.2532916025397821)]\n",
            "Cluster 3: [(0.4236547993389047, 0.6458941130666561), (0.7917250380826646, 0.5288949197529045), (0.07103605819788694, 0.08712929970154071), (0.11827442586893322, 0.6399210213275238), (0.5218483217500717, 0.4146619399905236), (0.45615033221654855, 0.5684339488686485), (0.359507900573786, 0.43703195379934145), (0.2103825610738409, 0.1289262976548533), (0.31542835092418386, 0.3637107709426226)]\n"
          ]
        }
      ],
      "source": [
        "import numpy as np\n",
        "\n",
        "# Function to calculate the Euclidean distance between two points\n",
        "def euclidean_distance(p1, p2):\n",
        "    return np.linalg.norm(np.array(p1) - np.array(p2))\n",
        "\n",
        "# Function to calculate the perimeter of a cluster\n",
        "def cluster_perimeter(cluster):\n",
        "    perimeter = 0\n",
        "    for i in range(len(cluster)):\n",
        "        for j in range(i + 1, len(cluster)):\n",
        "            perimeter += euclidean_distance(cluster[i], cluster[j])\n",
        "    return perimeter\n",
        "\n",
        "# Greedy Algorithm to distribute points into clusters while minimizing perimeter\n",
        "def greedy_cluster(points, k, isoperimetric_constraint):\n",
        "    convex_hull = [min(points, key=lambda p: p[1])]\n",
        "    points.remove(convex_hull[0])\n",
        "\n",
        "    for _ in range(k - 1):\n",
        "        furthest_point = max(points, key=lambda p: euclidean_distance(convex_hull[-1], p))\n",
        "        convex_hull.append(furthest_point)\n",
        "        points.remove(furthest_point)\n",
        "\n",
        "    clusters = [[] for _ in range(k)]\n",
        "\n",
        "    for point in points:\n",
        "        min_increase = float('inf')\n",
        "        best_cluster = None\n",
        "\n",
        "        for i in range(k):\n",
        "            temp_cluster = clusters[i] + [point]\n",
        "            temp_perimeter = cluster_perimeter(temp_cluster)\n",
        "\n",
        "            if temp_perimeter <= isoperimetric_constraint and temp_perimeter - cluster_perimeter(clusters[i]) < min_increase:\n",
        "                min_increase = temp_perimeter - cluster_perimeter(clusters[i])\n",
        "                best_cluster = i\n",
        "\n",
        "        if best_cluster is not None:\n",
        "            clusters[best_cluster].append(point)\n",
        "\n",
        "    return clusters\n",
        "\n",
        "# Generate some random points\n",
        "np.random.seed(0)\n",
        "points = [(np.random.rand(), np.random.rand()) for _ in range(30)]\n",
        "\n",
        "# Set the number of clusters and isoperimetric constraint\n",
        "k = 3\n",
        "isoperimetric_constraint = 15.0\n",
        "\n",
        "# Solve the problem using the Greedy Algorithm\n",
        "resulting_clusters = greedy_cluster(points, k, isoperimetric_constraint)\n",
        "\n",
        "# Print the resulting clusters\n",
        "for i, cluster in enumerate(resulting_clusters):\n",
        "    print(f'Cluster {i + 1}: {cluster}')\n"
      ]
    },
    {
      "cell_type": "markdown",
      "source": [
        "#The Cheeger Algorithm"
      ],
      "metadata": {
        "id": "pQvCFQvCrqFD"
      }
    },
    {
      "cell_type": "code",
      "source": [
        "import networkx as nx\n",
        "import numpy as np\n",
        "from scipy.optimize import minimize_scalar\n",
        "\n",
        "# Create a sample connected graph\n",
        "G = nx.Graph() # This creates the graph containg nodes but no edges\n",
        "G.add_edges_from([(1, 2), (1, 3), (2, 3), (2, 4), (3, 4), (4, 5)]) # This creates the edges.\n",
        "\n",
        "# Define the budget constraint\n",
        "budget = 3\n",
        "\n",
        "# Calculate the number of nodes in the graph\n",
        "num_nodes = len(G)\n",
        "\n",
        "# Define the objective function to maximize the Cheeger constant\n",
        "def objective_function(node_subset):\n",
        "    if len(node_subset) != budget:\n",
        "        return float(\"-inf\")  # Penalize subsets that don't meet the budget constraint\n",
        "\n",
        "    # Create a subgraph using the selected nodes\n",
        "    subgraph = G.subgraph(node_subset)\n",
        "\n",
        "    # Calculate the Cheeger constant\n",
        "    cut_size = len(nx.minimum_edge_cut(subgraph))\n",
        "    volume = sum(dict(subgraph.degree()).values())  # Calculate volume by summing degrees\n",
        "\n",
        "    if volume == 0:\n",
        "        return 0\n",
        "\n",
        "    return cut_size / volume\n",
        "\n",
        "# Define the optimization problem as a minimization problem\n",
        "result = minimize_scalar(lambda x: -objective_function([node for node in range(1, num_nodes + 1) if node <= x]), bounds=(budget, budget))\n",
        "\n",
        "# Extract the optimal subset of nodes\n",
        "optimal_subset = [node for node in range(1, num_nodes + 1) if node <= result.x]\n",
        "\n",
        "# Check if the selected edges create a valid cut\n",
        "subgraph = G.subgraph(optimal_subset)\n",
        "cut_set = set(nx.minimum_edge_cut(subgraph))\n",
        "\n",
        "# Output the optimal subset, Cheeger constant, and selected edges\n",
        "print(\"Optimal Subset of Nodes:\", optimal_subset)\n",
        "print(\"Optimal Cheeger Constant:\", -result.fun)\n",
        "if cut_set:\n",
        "    print(\"Edges in the Final Cut:\", cut_set)\n",
        "else:\n",
        "    print(\"No valid cut found within the budget constraint.\")\n"
      ],
      "metadata": {
        "colab": {
          "base_uri": "https://localhost:8080/"
        },
        "id": "_ZYjrebQ5zFt",
        "outputId": "f0dbeaa2-d5ae-4002-ed7a-4201bd8d5e15"
      },
      "execution_count": 30,
      "outputs": [
        {
          "output_type": "stream",
          "name": "stdout",
          "text": [
            "Optimal Subset of Nodes: [1, 2, 3]\n",
            "Optimal Cheeger Constant: 0.3333333333333333\n",
            "Edges in the Final Cut: {(1, 2), (1, 3)}\n"
          ]
        }
      ]
    },
    {
      "cell_type": "markdown",
      "source": [
        "#Swarm exploration strategy"
      ],
      "metadata": {
        "id": "AdftBK-pE0sn"
      }
    },
    {
      "cell_type": "code",
      "source": [
        "import random\n",
        "import matplotlib.pyplot as plt\n",
        "\n",
        "# Generate random points as the swarm\n",
        "num_points = 30\n",
        "swarm_points = [(random.uniform(0, 100), random.uniform(0, 100)) for _ in range(num_points)]\n",
        "\n",
        "# Function to calculate the perimeter of a subset of points\n",
        "def calculate_perimeter(points):\n",
        "    perimeter = 0\n",
        "    for i in range(len(points)):\n",
        "        x1, y1 = points[i]\n",
        "        x2, y2 = points[(i + 1) % len(points)]\n",
        "        perimeter += ((x1 - x2) ** 2 + (y1 - y2) ** 2) ** 0.5\n",
        "    return perimeter\n",
        "\n",
        "# Function to plot the swarm and a selected subset of points\n",
        "def plot_swarm_and_subset(swarm, subset):\n",
        "    swarm_x, swarm_y = zip(*swarm)\n",
        "    subset_x, subset_y = zip(*subset)\n",
        "\n",
        "    plt.figure(figsize=(8, 8))\n",
        "    plt.scatter(swarm_x, swarm_y, marker='o', label='Swarm Points')\n",
        "    plt.plot(subset_x + (subset_x[0],), subset_y + (subset_y[0],), color='red', label='Optimal Subset')\n",
        "    plt.legend()\n",
        "    plt.title('Swarm Exploration Strategy')\n",
        "    plt.show()\n",
        "\n",
        "# Greedy algorithm for selecting a subset of points that minimizes boundary while covering area\n",
        "def optimize_swarm_exploration(swarm, num_subset_points):\n",
        "    subset = []\n",
        "    remaining_points = list(swarm)\n",
        "\n",
        "    while len(subset) < num_subset_points:\n",
        "        best_point = None\n",
        "        best_boundary = float('inf')\n",
        "\n",
        "        for point in remaining_points:\n",
        "            current_subset = subset + [point]\n",
        "            current_boundary = calculate_perimeter(current_subset)\n",
        "            if current_boundary < best_boundary:\n",
        "                best_point = point\n",
        "                best_boundary = current_boundary\n",
        "\n",
        "        if best_point:\n",
        "            subset.append(best_point)\n",
        "            remaining_points.remove(best_point)\n",
        "\n",
        "    return subset\n",
        "\n",
        "# Number of points to select in the optimal subset\n",
        "num_subset_points = 10\n",
        "\n",
        "# Find the optimal subset\n",
        "optimal_subset = optimize_swarm_exploration(swarm_points, num_subset_points)\n",
        "\n",
        "# Display the optimal subset and the swarm\n",
        "plot_swarm_and_subset(swarm_points, optimal_subset)\n"
      ],
      "metadata": {
        "colab": {
          "base_uri": "https://localhost:8080/",
          "height": 698
        },
        "id": "WQ0muTaaE3J4",
        "outputId": "f42b0040-52ed-4c45-bb4d-60ec0a60c3eb"
      },
      "execution_count": 31,
      "outputs": [
        {
          "output_type": "display_data",
          "data": {
            "text/plain": [
              "<Figure size 800x800 with 1 Axes>"
            ],
            "image/png": "[encoded data removed]"
          },
          "metadata": {}
        }
      ]
    }
  ]
}